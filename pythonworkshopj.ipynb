{
  "nbformat": 4,
  "nbformat_minor": 0,
  "metadata": {
    "colab": {
      "name": "pythonworkshopj.ipynb",
      "provenance": [],
      "collapsed_sections": [],
      "authorship_tag": "ABX9TyNRZEPN8HZ/gASDHvjIY5nt",
      "include_colab_link": true
    },
    "kernelspec": {
      "name": "python3",
      "display_name": "Python 3"
    }
  },
  "cells": [
    {
      "cell_type": "markdown",
      "metadata": {
        "id": "view-in-github",
        "colab_type": "text"
      },
      "source": [
        "<a href=\"https://colab.research.google.com/github/suvarna-pr/C-Coding/blob/master/pythonworkshopj.ipynb\" target=\"_parent\"><img src=\"https://colab.research.google.com/assets/colab-badge.svg\" alt=\"Open In Colab\"/></a>"
      ]
    },
    {
      "cell_type": "code",
      "metadata": {
        "colab": {
          "base_uri": "https://localhost:8080/"
        },
        "id": "RYYZ9L76mp6f",
        "outputId": "e22cb85d-5c3f-44ad-ad7f-975a0e77d318"
      },
      "source": [
        "print(\"Hello world\")"
      ],
      "execution_count": null,
      "outputs": [
        {
          "output_type": "stream",
          "text": [
            "Hello world\n"
          ],
          "name": "stdout"
        }
      ]
    },
    {
      "cell_type": "code",
      "metadata": {
        "colab": {
          "base_uri": "https://localhost:8080/"
        },
        "id": "vp18R2yyns2Z",
        "outputId": "1c7f4c42-852e-45d1-a951-a2fadae67511"
      },
      "source": [
        "x=input(\"enter the value\")\r\n",
        "y=5\r\n",
        "print(type(x))\r\n",
        "print(type(y))"
      ],
      "execution_count": null,
      "outputs": [
        {
          "output_type": "stream",
          "text": [
            "enter the value5\n",
            "<class 'str'>\n",
            "<class 'int'>\n"
          ],
          "name": "stdout"
        }
      ]
    },
    {
      "cell_type": "code",
      "metadata": {
        "colab": {
          "base_uri": "https://localhost:8080/"
        },
        "id": "AhszFyM_pQVg",
        "outputId": "5defcffe-bd2a-4489-89ed-4bf165b00bdd"
      },
      "source": [
        "x=5\r\n",
        "x=\"John\"\r\n",
        "print(x)"
      ],
      "execution_count": null,
      "outputs": [
        {
          "output_type": "stream",
          "text": [
            "John\n"
          ],
          "name": "stdout"
        }
      ]
    },
    {
      "cell_type": "code",
      "metadata": {
        "colab": {
          "base_uri": "https://localhost:8080/"
        },
        "id": "-kUMpiFxp8Dp",
        "outputId": "8e6110de-7626-47d2-9e0f-db7429bfc645"
      },
      "source": [
        "print(int(0.33))"
      ],
      "execution_count": null,
      "outputs": [
        {
          "output_type": "stream",
          "text": [
            "0\n"
          ],
          "name": "stdout"
        }
      ]
    },
    {
      "cell_type": "code",
      "metadata": {
        "colab": {
          "base_uri": "https://localhost:8080/"
        },
        "id": "gHTJavGPqCgh",
        "outputId": "3df49b90-0d5a-4e13-8328-c7cdf280ba9a"
      },
      "source": [
        "x,y,z=\"orange\",\"banana\",\"cherry\"\r\n",
        "print(x)\r\n",
        "print(y)\r\n",
        "print(z)"
      ],
      "execution_count": null,
      "outputs": [
        {
          "output_type": "stream",
          "text": [
            "orange\n",
            "banana\n",
            "cherry\n"
          ],
          "name": "stdout"
        }
      ]
    },
    {
      "cell_type": "code",
      "metadata": {
        "colab": {
          "base_uri": "https://localhost:8080/"
        },
        "id": "BYS_p71orLsZ",
        "outputId": "c2ac6705-d945-4c01-c259-d5db759f041d"
      },
      "source": [
        "x,y,z=5,\"orange\",0.33\r\n",
        "print(x)\r\n",
        "print(y)\r\n",
        "print(z)"
      ],
      "execution_count": null,
      "outputs": [
        {
          "output_type": "stream",
          "text": [
            "5\n",
            "orange\n",
            "0.33\n"
          ],
          "name": "stdout"
        }
      ]
    },
    {
      "cell_type": "code",
      "metadata": {
        "colab": {
          "base_uri": "https://localhost:8080/"
        },
        "id": "AwW80ipVsWPK",
        "outputId": "3f2941e1-5665-4345-8e3b-628099ac7c17"
      },
      "source": [
        "x=\"awesome\"\r\n",
        "print(\"Python is \" +x)"
      ],
      "execution_count": null,
      "outputs": [
        {
          "output_type": "stream",
          "text": [
            "Python is awesome\n"
          ],
          "name": "stdout"
        }
      ]
    },
    {
      "cell_type": "code",
      "metadata": {
        "id": "3cJXeZXDswTa"
      },
      "source": [
        "x=\"awesome\"\r\n",
        "def myfuns():\r\n",
        "  print(\"Python is\" +x)\r\n",
        "  myfuns()"
      ],
      "execution_count": null,
      "outputs": []
    },
    {
      "cell_type": "markdown",
      "metadata": {
        "id": "PSQhl-XSvo-y"
      },
      "source": [
        "#Exercise 1\r\n",
        "\r\n"
      ]
    },
    {
      "cell_type": "code",
      "metadata": {
        "colab": {
          "base_uri": "https://localhost:8080/"
        },
        "id": "l7ng3rlBt4GT",
        "outputId": "dc7acd70-7ada-4ce1-f3cd-bcc3e0e46cb1"
      },
      "source": [
        "carname=\"volvo\"\r\n",
        "print(carname)"
      ],
      "execution_count": null,
      "outputs": [
        {
          "output_type": "stream",
          "text": [
            "volvo\n"
          ],
          "name": "stdout"
        }
      ]
    },
    {
      "cell_type": "markdown",
      "metadata": {
        "id": "vSo_xvEVvmuy"
      },
      "source": [
        "#Exersise 2"
      ]
    },
    {
      "cell_type": "code",
      "metadata": {
        "colab": {
          "base_uri": "https://localhost:8080/"
        },
        "id": "IHd6G4pEu_k8",
        "outputId": "5877c37e-0a27-4e99-943e-cb9044972521"
      },
      "source": [
        "x=50\r\n",
        "print(type(x))"
      ],
      "execution_count": null,
      "outputs": [
        {
          "output_type": "stream",
          "text": [
            "<class 'int'>\n"
          ],
          "name": "stdout"
        }
      ]
    },
    {
      "cell_type": "markdown",
      "metadata": {
        "id": "Cp2PjdS1vSP6"
      },
      "source": [
        "#Exercise 3"
      ]
    },
    {
      "cell_type": "code",
      "metadata": {
        "colab": {
          "base_uri": "https://localhost:8080/"
        },
        "id": "az4Hi0LEwQ_M",
        "outputId": "69ab42d5-2c8f-423a-c3f7-34e1e79fbe51"
      },
      "source": [
        "x,y=5,10\r\n",
        "print(x+y)"
      ],
      "execution_count": null,
      "outputs": [
        {
          "output_type": "stream",
          "text": [
            "15\n"
          ],
          "name": "stdout"
        }
      ]
    },
    {
      "cell_type": "markdown",
      "metadata": {
        "id": "AY5nZnpmwhDr"
      },
      "source": [
        "\r\n",
        "#Exercise 4"
      ]
    },
    {
      "cell_type": "code",
      "metadata": {
        "colab": {
          "base_uri": "https://localhost:8080/"
        },
        "id": "8CeVo4wnwm3t",
        "outputId": "f064e7f9-df9d-443a-c578-50e2412637e9"
      },
      "source": [
        "x,y=11,17\r\n",
        "z=x+y\r\n",
        "print(z)"
      ],
      "execution_count": null,
      "outputs": [
        {
          "output_type": "stream",
          "text": [
            "28\n"
          ],
          "name": "stdout"
        }
      ]
    },
    {
      "cell_type": "code",
      "metadata": {
        "colab": {
          "base_uri": "https://localhost:8080/"
        },
        "id": "alWRWVn7PQ8N",
        "outputId": "dd7512c8-a91d-43b9-b151-3ed09be20785"
      },
      "source": [
        "x=5\r\n",
        "print(type(x))"
      ],
      "execution_count": 28,
      "outputs": [
        {
          "output_type": "stream",
          "text": [
            "<class 'int'>\n"
          ],
          "name": "stdout"
        }
      ]
    },
    {
      "cell_type": "code",
      "metadata": {
        "colab": {
          "base_uri": "https://localhost:8080/"
        },
        "id": "DlasIXzjPqfM",
        "outputId": "0fc24f7f-375e-4e6c-d857-a8ec808ee995"
      },
      "source": [
        "x1=\"Hello world\"\r\n",
        "x2=5\r\n",
        "x3=5.6\r\n",
        "x4=[\"apple\",\"banana\",\"cherry\"]\r\n",
        "x5=(\"apple\",\"banana\",\"cherry\")\r\n",
        "x6=range(6)\r\n",
        "x7={\"name\": \"Johnwick\" ,\"age\":36}\r\n",
        "x8={\"apple\",\"banana\",\"cherry\"}\r\n",
        "x9=True\r\n",
        "print(x1,x2,x3,x4,x5,x6,x7,x8,x9)"
      ],
      "execution_count": 30,
      "outputs": [
        {
          "output_type": "stream",
          "text": [
            "Hello world 5 5.6 ['apple', 'banana', 'cherry'] ('apple', 'banana', 'cherry') range(0, 6) {'name': 'Johnwick', 'age': 36} {'banana', 'cherry', 'apple'} True\n"
          ],
          "name": "stdout"
        }
      ]
    },
    {
      "cell_type": "code",
      "metadata": {
        "colab": {
          "base_uri": "https://localhost:8080/"
        },
        "id": "G6D9bXfIRY3W",
        "outputId": "31f42261-2193-4c8f-c9f2-69a7038afa37"
      },
      "source": [
        "print(type(x1))\r\n",
        "print(type(x2))\r\n",
        "print(type(x3))\r\n",
        "print(type(x4))\r\n",
        "print(type(x5))\r\n",
        "print(type(x6))\r\n",
        "print(type(x7))\r\n",
        "print(type(x8))\r\n",
        "print(type(x9))"
      ],
      "execution_count": 31,
      "outputs": [
        {
          "output_type": "stream",
          "text": [
            "<class 'str'>\n",
            "<class 'int'>\n",
            "<class 'float'>\n",
            "<class 'list'>\n",
            "<class 'tuple'>\n",
            "<class 'range'>\n",
            "<class 'dict'>\n",
            "<class 'set'>\n",
            "<class 'bool'>\n"
          ],
          "name": "stdout"
        }
      ]
    },
    {
      "cell_type": "code",
      "metadata": {
        "colab": {
          "base_uri": "https://localhost:8080/"
        },
        "id": "dP51zUmkS9vc",
        "outputId": "20cf8dd8-5998-4ebb-d0d0-cc0ec3f9f9f3"
      },
      "source": [
        "x=1\r\n",
        "y=81725378234897\r\n",
        "z=-7578234\r\n",
        "print(type(x))\r\n",
        "print(type(y))\r\n",
        "print(type(z))"
      ],
      "execution_count": 36,
      "outputs": [
        {
          "output_type": "stream",
          "text": [
            "<class 'int'>\n",
            "<class 'int'>\n",
            "<class 'int'>\n"
          ],
          "name": "stdout"
        }
      ]
    },
    {
      "cell_type": "code",
      "metadata": {
        "colab": {
          "base_uri": "https://localhost:8080/"
        },
        "id": "V48QsDFeTeam",
        "outputId": "92579d40-f21b-490c-8df7-cda5ee7c090a"
      },
      "source": [
        "x=3+5j\r\n",
        "print(type(x))"
      ],
      "execution_count": 37,
      "outputs": [
        {
          "output_type": "stream",
          "text": [
            "<class 'complex'>\n"
          ],
          "name": "stdout"
        }
      ]
    },
    {
      "cell_type": "code",
      "metadata": {
        "colab": {
          "base_uri": "https://localhost:8080/"
        },
        "id": "Xm_5J2iIUdP_",
        "outputId": "40b07b3e-c6fe-4448-b909-789010190178"
      },
      "source": [
        "x=range(1,5,2)\r\n",
        "print(list(x))"
      ],
      "execution_count": 44,
      "outputs": [
        {
          "output_type": "stream",
          "text": [
            "[1, 3]\n"
          ],
          "name": "stdout"
        }
      ]
    },
    {
      "cell_type": "code",
      "metadata": {
        "colab": {
          "base_uri": "https://localhost:8080/"
        },
        "id": "EJGR98qQWdPW",
        "outputId": "0730db57-66cf-49de-cc09-84b920184101"
      },
      "source": [
        "x={1,2,3,2}\r\n",
        "print(x)"
      ],
      "execution_count": 45,
      "outputs": [
        {
          "output_type": "stream",
          "text": [
            "{1, 2, 3}\n"
          ],
          "name": "stdout"
        }
      ]
    },
    {
      "cell_type": "code",
      "metadata": {
        "colab": {
          "base_uri": "https://localhost:8080/"
        },
        "id": "AyxPhh_EXjMm",
        "outputId": "94532135-f7ae-489a-c899-3e5a2ffa6b34"
      },
      "source": [
        "x=1\r\n",
        "y=2.8\r\n",
        "z=1j\r\n",
        "a=float(x)\r\n",
        "b=int(y)\r\n",
        "c=complex(x)\r\n",
        "print(a)\r\n",
        "print(b)\r\n",
        "print(c)\r\n"
      ],
      "execution_count": 52,
      "outputs": [
        {
          "output_type": "stream",
          "text": [
            "1.0\n",
            "2\n",
            "(1+0j)\n"
          ],
          "name": "stdout"
        }
      ]
    },
    {
      "cell_type": "code",
      "metadata": {
        "colab": {
          "base_uri": "https://localhost:8080/"
        },
        "id": "smLVD2lBZc7S",
        "outputId": "32e44b4b-aaf8-42ea-c080-e55aa248470f"
      },
      "source": [
        "x=int(1)\r\n",
        "y=int(2.8)\r\n",
        "z=int(\"3\")\r\n",
        "x=float(1)\r\n",
        "y=float(2.8)\r\n",
        "z=float(\"3\")\r\n",
        "w=float(\"4.2\")\r\n",
        "x=str(\"s1\")\r\n",
        "y=str(2)\r\n",
        "z=str(3.0)\r\n",
        "print(x,y,z,w)\r\n"
      ],
      "execution_count": 55,
      "outputs": [
        {
          "output_type": "stream",
          "text": [
            "s1 2 3.0 4.2\n"
          ],
          "name": "stdout"
        }
      ]
    },
    {
      "cell_type": "markdown",
      "metadata": {
        "id": "bLh7HW8ja-W3"
      },
      "source": [
        "#Exercise 5"
      ]
    },
    {
      "cell_type": "code",
      "metadata": {
        "colab": {
          "base_uri": "https://localhost:8080/"
        },
        "id": "NStCcOX9a7k3",
        "outputId": "0cab2769-461d-4fd6-9ce4-527444b69af7"
      },
      "source": [
        "x,y=2,3\r\n",
        "x=str(x)\r\n",
        "y=str(y)\r\n",
        "print(\"x+y=\",x+y)"
      ],
      "execution_count": 68,
      "outputs": [
        {
          "output_type": "stream",
          "text": [
            "x+y= 23\n"
          ],
          "name": "stdout"
        }
      ]
    },
    {
      "cell_type": "code",
      "metadata": {
        "colab": {
          "base_uri": "https://localhost:8080/"
        },
        "id": "i2hk5MnCdrsa",
        "outputId": "9469ebc1-d664-4a58-a534-e363c7642d48"
      },
      "source": [
        "name=\"jeevitha\"\r\n",
        "print(name)\r\n",
        "print(type(name))"
      ],
      "execution_count": 69,
      "outputs": [
        {
          "output_type": "stream",
          "text": [
            "jeevitha\n",
            "<class 'str'>\n"
          ],
          "name": "stdout"
        }
      ]
    },
    {
      "cell_type": "code",
      "metadata": {
        "colab": {
          "base_uri": "https://localhost:8080/"
        },
        "id": "oHTT7XVQeMhI",
        "outputId": "914a6dfc-672b-4299-91e7-5359a03082e5"
      },
      "source": [
        "name=\"hello world\"\r\n",
        "print(name[6])"
      ],
      "execution_count": 74,
      "outputs": [
        {
          "output_type": "stream",
          "text": [
            "w\n"
          ],
          "name": "stdout"
        }
      ]
    },
    {
      "cell_type": "code",
      "metadata": {
        "colab": {
          "base_uri": "https://localhost:8080/"
        },
        "id": "vebqcL6UelRI",
        "outputId": "50ed0026-f026-44dc-d3b6-ee5e3ca9e08b"
      },
      "source": [
        "name=\"hello world\"\r\n",
        "print(len(name))"
      ],
      "execution_count": 75,
      "outputs": [
        {
          "output_type": "stream",
          "text": [
            "11\n"
          ],
          "name": "stdout"
        }
      ]
    },
    {
      "cell_type": "code",
      "metadata": {
        "colab": {
          "base_uri": "https://localhost:8080/"
        },
        "id": "KbRCDRTcfLN5",
        "outputId": "b68ea76a-dcb4-4a02-f2a9-a1ce84abb848"
      },
      "source": [
        "txt=\"The sky is blue\"\r\n",
        "print(\"sky\" in txt)"
      ],
      "execution_count": 77,
      "outputs": [
        {
          "output_type": "stream",
          "text": [
            "True\n"
          ],
          "name": "stdout"
        }
      ]
    },
    {
      "cell_type": "code",
      "metadata": {
        "colab": {
          "base_uri": "https://localhost:8080/"
        },
        "id": "lYiAtGFOf01y",
        "outputId": "3aba347e-05ec-4d88-c2cc-77c0eb8f4794"
      },
      "source": [
        "txt=\"The sky is blue\"\r\n",
        "print(\"white\" in txt)"
      ],
      "execution_count": 78,
      "outputs": [
        {
          "output_type": "stream",
          "text": [
            "False\n"
          ],
          "name": "stdout"
        }
      ]
    },
    {
      "cell_type": "code",
      "metadata": {
        "colab": {
          "base_uri": "https://localhost:8080/"
        },
        "id": "O23SPYqkgDjR",
        "outputId": "2ce45cb7-fb65-45ad-d24b-493a1c5f29f7"
      },
      "source": [
        "b=\"hello world\"\r\n",
        "print(b[2:5])"
      ],
      "execution_count": 79,
      "outputs": [
        {
          "output_type": "stream",
          "text": [
            "llo\n"
          ],
          "name": "stdout"
        }
      ]
    },
    {
      "cell_type": "code",
      "metadata": {
        "colab": {
          "base_uri": "https://localhost:8080/"
        },
        "id": "A6yxc20agPcK",
        "outputId": "038d65e8-46e6-46aa-be50-8a4d62a9b8ae"
      },
      "source": [
        "txt=\"things in life are free\"\r\n",
        "print(txt[0:5])"
      ],
      "execution_count": 80,
      "outputs": [
        {
          "output_type": "stream",
          "text": [
            "thing\n"
          ],
          "name": "stdout"
        }
      ]
    },
    {
      "cell_type": "code",
      "metadata": {
        "colab": {
          "base_uri": "https://localhost:8080/"
        },
        "id": "sOUdGvakglMZ",
        "outputId": "3036d3c6-11c4-45fd-f54e-48bb8427a995"
      },
      "source": [
        "txt=\"things in life are free\"\r\n",
        "print(txt[:5])"
      ],
      "execution_count": 81,
      "outputs": [
        {
          "output_type": "stream",
          "text": [
            "thing\n"
          ],
          "name": "stdout"
        }
      ]
    },
    {
      "cell_type": "code",
      "metadata": {
        "colab": {
          "base_uri": "https://localhost:8080/"
        },
        "id": "S2SKcSfxgq2J",
        "outputId": "36556b32-6610-49bc-9890-3117cea9a18c"
      },
      "source": [
        "txt=\"things in life are free\"\r\n",
        "print(txt[2:])"
      ],
      "execution_count": 82,
      "outputs": [
        {
          "output_type": "stream",
          "text": [
            "ings in life are free\n"
          ],
          "name": "stdout"
        }
      ]
    },
    {
      "cell_type": "code",
      "metadata": {
        "colab": {
          "base_uri": "https://localhost:8080/"
        },
        "id": "mkCZ4IohhAQM",
        "outputId": "d4f60796-2f51-4da3-d8c9-6ffa2cf6e60f"
      },
      "source": [
        "b=\"hello world\"\r\n",
        "print(b[-5:-2])"
      ],
      "execution_count": 83,
      "outputs": [
        {
          "output_type": "stream",
          "text": [
            "wor\n"
          ],
          "name": "stdout"
        }
      ]
    },
    {
      "cell_type": "code",
      "metadata": {
        "colab": {
          "base_uri": "https://localhost:8080/"
        },
        "id": "rVv3FAwThxcK",
        "outputId": "ea3542a4-269a-484a-d55a-96f9f3dd7c9f"
      },
      "source": [
        "a=\"hello world\"\r\n",
        "print(a.upper())"
      ],
      "execution_count": 84,
      "outputs": [
        {
          "output_type": "stream",
          "text": [
            "HELLO WORLD\n"
          ],
          "name": "stdout"
        }
      ]
    },
    {
      "cell_type": "code",
      "metadata": {
        "colab": {
          "base_uri": "https://localhost:8080/"
        },
        "id": "ASgNn7JBh7t8",
        "outputId": "20da28ed-22df-495d-d07e-01788e3be84a"
      },
      "source": [
        "a=\"Hello World\"\r\n",
        "print(a.lower())"
      ],
      "execution_count": 85,
      "outputs": [
        {
          "output_type": "stream",
          "text": [
            "hello world\n"
          ],
          "name": "stdout"
        }
      ]
    },
    {
      "cell_type": "code",
      "metadata": {
        "colab": {
          "base_uri": "https://localhost:8080/"
        },
        "id": "e5_Gm1MAibUL",
        "outputId": "d1575120-6544-4b66-84e9-e73f4dffa894"
      },
      "source": [
        "a=\"Hello\"\r\n",
        "b=\" World\"\r\n",
        "c=a+b\r\n",
        "print(c)"
      ],
      "execution_count": 88,
      "outputs": [
        {
          "output_type": "stream",
          "text": [
            "Hello World\n"
          ],
          "name": "stdout"
        }
      ]
    },
    {
      "cell_type": "code",
      "metadata": {
        "colab": {
          "base_uri": "https://localhost:8080/"
        },
        "id": "SCLMHUJAi61i",
        "outputId": "c11c83f8-c03b-4582-c9cb-402d3a218a2d"
      },
      "source": [
        "age=36\r\n",
        "txt=\"My name is John,I am {}\"\r\n",
        "print(txt.format(age))"
      ],
      "execution_count": 96,
      "outputs": [
        {
          "output_type": "stream",
          "text": [
            "My name is John,I am 36\n"
          ],
          "name": "stdout"
        }
      ]
    },
    {
      "cell_type": "code",
      "metadata": {
        "colab": {
          "base_uri": "https://localhost:8080/"
        },
        "id": "nO1WjfA5kWJD",
        "outputId": "1df0499c-fb34-4948-876b-869d39c5185b"
      },
      "source": [
        "txt=\"hello\\nworld!\"\r\n",
        "print(txt)"
      ],
      "execution_count": 99,
      "outputs": [
        {
          "output_type": "stream",
          "text": [
            "hello\n",
            "world!\n"
          ],
          "name": "stdout"
        }
      ]
    },
    {
      "cell_type": "code",
      "metadata": {
        "colab": {
          "base_uri": "https://localhost:8080/"
        },
        "id": "oQYM3_kLkiOj",
        "outputId": "4c012e7a-d2df-4a80-ccdb-dc2ac40716e2"
      },
      "source": [
        "b=\"hello\\tworld!\"\r\n",
        "print(b)"
      ],
      "execution_count": 101,
      "outputs": [
        {
          "output_type": "stream",
          "text": [
            "hello\tworld!\n"
          ],
          "name": "stdout"
        }
      ]
    },
    {
      "cell_type": "code",
      "metadata": {
        "colab": {
          "base_uri": "https://localhost:8080/"
        },
        "id": "tTdrSN9Vkr1D",
        "outputId": "d97292e3-426e-466f-efdb-f7b1999e648e"
      },
      "source": [
        "b=\"hello\\bworld!\"\r\n",
        "print(b)"
      ],
      "execution_count": 102,
      "outputs": [
        {
          "output_type": "stream",
          "text": [
            "hello\bworld!\n"
          ],
          "name": "stdout"
        }
      ]
    },
    {
      "cell_type": "code",
      "metadata": {
        "colab": {
          "base_uri": "https://localhost:8080/"
        },
        "id": "_Em3lrCHky7c",
        "outputId": "6722396a-bdfa-4735-988e-b266d69e4ca3"
      },
      "source": [
        "txt=\"jeevitha\"\r\n",
        "x=(txt.capitalize())\r\n",
        "print(x)"
      ],
      "execution_count": 103,
      "outputs": [
        {
          "output_type": "stream",
          "text": [
            "Jeevitha\n"
          ],
          "name": "stdout"
        }
      ]
    },
    {
      "cell_type": "code",
      "metadata": {
        "colab": {
          "base_uri": "https://localhost:8080/"
        },
        "id": "HNL87c5DlRJj",
        "outputId": "07e55ae0-1f70-48c0-be71-7736e24b7ba8"
      },
      "source": [
        "txt=\"jeevitha\"\r\n",
        "print(txt.isupper())"
      ],
      "execution_count": 105,
      "outputs": [
        {
          "output_type": "stream",
          "text": [
            "False\n"
          ],
          "name": "stdout"
        }
      ]
    },
    {
      "cell_type": "code",
      "metadata": {
        "colab": {
          "base_uri": "https://localhost:8080/"
        },
        "id": "gEOocEG-lwib",
        "outputId": "1cb694b9-72b1-4c60-ced0-08817aff5f6b"
      },
      "source": [
        "txt=\"jeevitha\"\r\n",
        "print(txt.isalpha())"
      ],
      "execution_count": 106,
      "outputs": [
        {
          "output_type": "stream",
          "text": [
            "True\n"
          ],
          "name": "stdout"
        }
      ]
    },
    {
      "cell_type": "code",
      "metadata": {
        "colab": {
          "base_uri": "https://localhost:8080/"
        },
        "id": "_Pb_YWsel8i7",
        "outputId": "1465735c-026b-4cb2-fedf-0a9d611b0271"
      },
      "source": [
        "txt=\"jeevitha\"\r\n",
        "print(txt.isdigit())"
      ],
      "execution_count": 108,
      "outputs": [
        {
          "output_type": "stream",
          "text": [
            "False\n"
          ],
          "name": "stdout"
        }
      ]
    },
    {
      "cell_type": "markdown",
      "metadata": {
        "id": "_NaBvZ-63sNy"
      },
      "source": [
        "#Code 1"
      ]
    },
    {
      "cell_type": "code",
      "metadata": {
        "colab": {
          "base_uri": "https://localhost:8080/"
        },
        "id": "D6yAFm8q1X36",
        "outputId": "a893ff14-2efe-4b4e-9542-71228eb20b43"
      },
      "source": [
        "inp=input(\"Enter the name:\")\r\n",
        "print(len(inp))\r\n",
        "print(inp[0:4])\r\n",
        "print(inp.upper())\r\n",
        "print(inp + \" college\")\r\n",
        "inp=inp+\"{}\"\r\n",
        "print(inp.format(\"college\"))\r\n",
        "print(inp.isdigit())"
      ],
      "execution_count": 116,
      "outputs": [
        {
          "output_type": "stream",
          "text": [
            "Enter the name:alvas\n",
            "5\n",
            "alva\n",
            "ALVAS\n",
            "alvas college\n",
            "alvascollege\n",
            "False\n"
          ],
          "name": "stdout"
        }
      ]
    },
    {
      "cell_type": "code",
      "metadata": {
        "colab": {
          "base_uri": "https://localhost:8080/"
        },
        "id": "mCevDaGy6OyB",
        "outputId": "142d0008-dda7-475f-9429-ff6d2db4f794"
      },
      "source": [
        "print(10>9)"
      ],
      "execution_count": 117,
      "outputs": [
        {
          "output_type": "stream",
          "text": [
            "True\n"
          ],
          "name": "stdout"
        }
      ]
    },
    {
      "cell_type": "code",
      "metadata": {
        "colab": {
          "base_uri": "https://localhost:8080/"
        },
        "id": "PtaUpV5h62op",
        "outputId": "4c78f265-8a45-4c2e-bc84-109aae425eba"
      },
      "source": [
        "print(2*8)"
      ],
      "execution_count": 120,
      "outputs": [
        {
          "output_type": "stream",
          "text": [
            "16\n"
          ],
          "name": "stdout"
        }
      ]
    },
    {
      "cell_type": "code",
      "metadata": {
        "colab": {
          "base_uri": "https://localhost:8080/"
        },
        "id": "laV-8id96bfi",
        "outputId": "170d4d60-8a16-4db3-ea68-4bdffee1eb56"
      },
      "source": [
        "print(10==9)"
      ],
      "execution_count": 118,
      "outputs": [
        {
          "output_type": "stream",
          "text": [
            "False\n"
          ],
          "name": "stdout"
        }
      ]
    },
    {
      "cell_type": "code",
      "metadata": {
        "colab": {
          "base_uri": "https://localhost:8080/"
        },
        "id": "BN5bPfuH6ykp",
        "outputId": "c2f881eb-14a3-4014-bbe7-6800b8c17958"
      },
      "source": [
        "print(10+5)"
      ],
      "execution_count": 119,
      "outputs": [
        {
          "output_type": "stream",
          "text": [
            "15\n"
          ],
          "name": "stdout"
        }
      ]
    },
    {
      "cell_type": "code",
      "metadata": {
        "colab": {
          "base_uri": "https://localhost:8080/"
        },
        "id": "qONUVBY8kSg2",
        "outputId": "d8d9e57d-34d5-40b9-eaf4-116dd82fa597"
      },
      "source": [
        "print(20-9)"
      ],
      "execution_count": 121,
      "outputs": [
        {
          "output_type": "stream",
          "text": [
            "11\n"
          ],
          "name": "stdout"
        }
      ]
    },
    {
      "cell_type": "code",
      "metadata": {
        "colab": {
          "base_uri": "https://localhost:8080/"
        },
        "id": "MamDFJ5s7AKp",
        "outputId": "29cc88eb-b598-4d56-b68f-c92f3fa2af63"
      },
      "source": [
        "print(20/2)"
      ],
      "execution_count": 122,
      "outputs": [
        {
          "output_type": "stream",
          "text": [
            "10.0\n"
          ],
          "name": "stdout"
        }
      ]
    },
    {
      "cell_type": "code",
      "metadata": {
        "colab": {
          "base_uri": "https://localhost:8080/"
        },
        "id": "WPThEwK07JMd",
        "outputId": "163ef45a-34d8-4d78-b0d8-997d747e2f19"
      },
      "source": [
        "print(2+10)\r\n",
        "print(2-10)\r\n",
        "print(2*10)\r\n",
        "print(2%10)\r\n",
        "print(2/10)"
      ],
      "execution_count": 123,
      "outputs": [
        {
          "output_type": "stream",
          "text": [
            "12\n",
            "-8\n",
            "20\n",
            "2\n",
            "0.2\n"
          ],
          "name": "stdout"
        }
      ]
    },
    {
      "cell_type": "code",
      "metadata": {
        "colab": {
          "base_uri": "https://localhost:8080/"
        },
        "id": "TOAAfTzv7lHi",
        "outputId": "e1395be1-4663-4e55-f25f-8c83217aa724"
      },
      "source": [
        "x=5\r\n",
        "x+=5\r\n",
        "print(x)\r\n",
        "x=-3\r\n",
        "print(x)\r\n",
        "x*=18\r\n",
        "print(x)"
      ],
      "execution_count": 125,
      "outputs": [
        {
          "output_type": "stream",
          "text": [
            "10\n",
            "-3\n",
            "-54\n"
          ],
          "name": "stdout"
        }
      ]
    },
    {
      "cell_type": "code",
      "metadata": {
        "colab": {
          "base_uri": "https://localhost:8080/"
        },
        "id": "acDYeNzB8fab",
        "outputId": "3ad2269d-c075-4853-c0b6-c4c7ecc0abe9"
      },
      "source": [
        "x,y=10,5\r\n",
        "print(x==y)\r\n",
        "print(x!=y)\r\n",
        "print(x>y)\r\n",
        "print(x<y)"
      ],
      "execution_count": 126,
      "outputs": [
        {
          "output_type": "stream",
          "text": [
            "False\n",
            "True\n",
            "True\n",
            "False\n"
          ],
          "name": "stdout"
        }
      ]
    },
    {
      "cell_type": "code",
      "metadata": {
        "colab": {
          "base_uri": "https://localhost:8080/"
        },
        "id": "VXMFdo4n9wSs",
        "outputId": "1aa40465-ba2f-48e1-af46-2cf613ebb403"
      },
      "source": [
        "print(3<0 or 3<8)"
      ],
      "execution_count": 128,
      "outputs": [
        {
          "output_type": "stream",
          "text": [
            "True\n"
          ],
          "name": "stdout"
        }
      ]
    },
    {
      "cell_type": "markdown",
      "metadata": {
        "id": "DpIrw3y7-coL"
      },
      "source": [
        ""
      ]
    },
    {
      "cell_type": "code",
      "metadata": {
        "colab": {
          "base_uri": "https://localhost:8080/"
        },
        "id": "u3jS7KFv9_7a",
        "outputId": "9af43543-d9fb-4378-8545-40624c5c77e4"
      },
      "source": [
        "print(3<0 and 3<8)"
      ],
      "execution_count": 130,
      "outputs": [
        {
          "output_type": "stream",
          "text": [
            "False\n"
          ],
          "name": "stdout"
        }
      ]
    },
    {
      "cell_type": "markdown",
      "metadata": {
        "id": "JafzOkWABSIH"
      },
      "source": [
        "#Assignment2"
      ]
    },
    {
      "cell_type": "code",
      "metadata": {
        "colab": {
          "base_uri": "https://localhost:8080/"
        },
        "id": "2oqzu--U-Rfp",
        "outputId": "00039f58-2b2a-42fd-fca3-f66dfb17df42"
      },
      "source": [
        "x=int(input(\"enter the value of x:\"))\r\n",
        "y=int(input(\"enter the value of y:\"))\r\n",
        "print(\"x+y=\",x+y)\r\n",
        "print(\"x-y=\",x-y)\r\n",
        "print(\"x*y=\",x*y)\r\n",
        "print(\"x/y=\",x/y)\r\n",
        "print(\"x%y=\",x%y)\r\n"
      ],
      "execution_count": 137,
      "outputs": [
        {
          "output_type": "stream",
          "text": [
            "enter the value of x:6\n",
            "enter the value of y:4\n",
            "x+y= 10\n",
            "x-y= 2\n",
            "x*y= 24\n",
            "x/y= 1.5\n",
            "x%y= 2\n"
          ],
          "name": "stdout"
        }
      ]
    },
    {
      "cell_type": "code",
      "metadata": {
        "colab": {
          "base_uri": "https://localhost:8080/"
        },
        "id": "rdzOIkfkEYKE",
        "outputId": "fca9ff64-8080-4f74-8b31-80fc81717859"
      },
      "source": [
        "thislist=[\"jeevitha\",\"manisha\",\"gayathri\"]\r\n",
        "print(thislist)"
      ],
      "execution_count": 141,
      "outputs": [
        {
          "output_type": "stream",
          "text": [
            "['jeevitha', 'manisha', 'gayathri']\n"
          ],
          "name": "stdout"
        }
      ]
    },
    {
      "cell_type": "code",
      "metadata": {
        "colab": {
          "base_uri": "https://localhost:8080/"
        },
        "id": "PlfMAG5cE5T-",
        "outputId": "60388bc0-c3e3-4bae-f8fc-6626686f39cc"
      },
      "source": [
        "L=[\"ise\",\"cse\",\"ece\"]\r\n",
        "print(L)\r\n"
      ],
      "execution_count": 144,
      "outputs": [
        {
          "output_type": "stream",
          "text": [
            "['ise', 'cse', 'ece']\n"
          ],
          "name": "stdout"
        }
      ]
    },
    {
      "cell_type": "code",
      "metadata": {
        "colab": {
          "base_uri": "https://localhost:8080/"
        },
        "id": "OLpPwiXJGD31",
        "outputId": "9b8585eb-dd37-4c33-b754-0544054f566a"
      },
      "source": [
        "L=[\"ise\",\"cse\",\"ece\",\"mech\",\"civil\",\"AI\"]\r\n",
        "print(L[2:5])\r\n"
      ],
      "execution_count": 146,
      "outputs": [
        {
          "output_type": "stream",
          "text": [
            "['ece', 'mech', 'civil']\n"
          ],
          "name": "stdout"
        }
      ]
    },
    {
      "cell_type": "code",
      "metadata": {
        "colab": {
          "base_uri": "https://localhost:8080/"
        },
        "id": "cGhND6RMGyiO",
        "outputId": "8700b29e-96d7-4b6a-d9f3-2736d387d970"
      },
      "source": [
        "L=[\"ise\",\"cse\",\"ece\",\"mech\",\"civil\",\"AI\"]\r\n",
        "print(L[:5])"
      ],
      "execution_count": 147,
      "outputs": [
        {
          "output_type": "stream",
          "text": [
            "['ise', 'cse', 'ece', 'mech', 'civil']\n"
          ],
          "name": "stdout"
        }
      ]
    },
    {
      "cell_type": "code",
      "metadata": {
        "colab": {
          "base_uri": "https://localhost:8080/"
        },
        "id": "sVdTeksvG81Z",
        "outputId": "0c694737-0916-4d6f-c492-82d299376864"
      },
      "source": [
        "L=[\"ise\",\"cse\",\"ece\",\"mech\",\"civil\",\"AI\"]\r\n",
        "print(L[5:])"
      ],
      "execution_count": 148,
      "outputs": [
        {
          "output_type": "stream",
          "text": [
            "['AI']\n"
          ],
          "name": "stdout"
        }
      ]
    },
    {
      "cell_type": "code",
      "metadata": {
        "colab": {
          "base_uri": "https://localhost:8080/"
        },
        "id": "0O-8IIOWHMzw",
        "outputId": "da7133c7-1be9-4cef-d885-da2d4db837d7"
      },
      "source": [
        "L=[\"ise\",\"cse\",\"ece\",\"mech\",\"civil\",\"AI\"]\r\n",
        "L[-1]=\"ML\"\r\n",
        "print(L)"
      ],
      "execution_count": 150,
      "outputs": [
        {
          "output_type": "stream",
          "text": [
            "['ise', 'cse', 'ece', 'mech', 'civil', 'ML']\n"
          ],
          "name": "stdout"
        }
      ]
    },
    {
      "cell_type": "code",
      "metadata": {
        "colab": {
          "base_uri": "https://localhost:8080/"
        },
        "id": "qpWqBKfmFrU1",
        "outputId": "fb0e5131-0b2e-4d73-9012-7ee98303b85b"
      },
      "source": [
        "thislist=[\"apple\",\"banana\",\"cherry\"]\r\n",
        "print(len(thislist))\r\n",
        "thislist.append(\"orange\")\r\n",
        "print(thislist)\r\n",
        "print(len(thislist))"
      ],
      "execution_count": 151,
      "outputs": [
        {
          "output_type": "stream",
          "text": [
            "3\n",
            "['apple', 'banana', 'cherry', 'orange']\n",
            "4\n"
          ],
          "name": "stdout"
        }
      ]
    },
    {
      "cell_type": "code",
      "metadata": {
        "colab": {
          "base_uri": "https://localhost:8080/"
        },
        "id": "Fc-DmMQwIbyO",
        "outputId": "c41efbe3-a0ac-4d6e-d1e7-0638f09a7810"
      },
      "source": [
        "thislist=[\"apple\",\"banana\",\"cherry\"]\r\n",
        "tropical=[\"mango\",\"pineapple\",\"papaya\"]\r\n",
        "thislist.extend(tropical)\r\n",
        "print(thislist)"
      ],
      "execution_count": 152,
      "outputs": [
        {
          "output_type": "stream",
          "text": [
            "['apple', 'banana', 'cherry', 'mango', 'pineapple', 'papaya']\n"
          ],
          "name": "stdout"
        }
      ]
    },
    {
      "cell_type": "code",
      "metadata": {
        "colab": {
          "base_uri": "https://localhost:8080/"
        },
        "id": "aZFR199SJL0n",
        "outputId": "d4c93983-8453-4ebe-ef23-ce266906a8ca"
      },
      "source": [
        "thislist=[\"apple\",\"banana\",\"cherry\"]\r\n",
        "tropical=[\"mango\",\"pineapple\",\"papaya\"]\r\n",
        "newlist=thislist+tropical\r\n",
        "print(newlist)"
      ],
      "execution_count": 153,
      "outputs": [
        {
          "output_type": "stream",
          "text": [
            "['apple', 'banana', 'cherry', 'mango', 'pineapple', 'papaya']\n"
          ],
          "name": "stdout"
        }
      ]
    },
    {
      "cell_type": "code",
      "metadata": {
        "colab": {
          "base_uri": "https://localhost:8080/"
        },
        "id": "TaQiDcqTJj0O",
        "outputId": "732489df-d25c-4658-d250-ff249f9699fe"
      },
      "source": [
        "thislist=[\"apple\",\"banana\",\"cherry\"]\r\n",
        "print(len(thislist))\r\n",
        "thislist.remove(\"banana\")\r\n",
        "print(thislist)"
      ],
      "execution_count": 162,
      "outputs": [
        {
          "output_type": "stream",
          "text": [
            "3\n",
            "['apple', 'cherry']\n"
          ],
          "name": "stdout"
        }
      ]
    },
    {
      "cell_type": "code",
      "metadata": {
        "colab": {
          "base_uri": "https://localhost:8080/"
        },
        "id": "K4iR5OZbKWJ5",
        "outputId": "24186799-4f57-4835-fc31-ec9b29d1c58f"
      },
      "source": [
        "thislist=[\"apple\",\"banana\",\"cherry\"]\r\n",
        "del thislist[1]\r\n",
        "print(thislist)"
      ],
      "execution_count": 163,
      "outputs": [
        {
          "output_type": "stream",
          "text": [
            "['apple', 'cherry']\n"
          ],
          "name": "stdout"
        }
      ]
    },
    {
      "cell_type": "code",
      "metadata": {
        "colab": {
          "base_uri": "https://localhost:8080/"
        },
        "id": "PCSrYoCMKx0-",
        "outputId": "ab032186-7832-47f9-e49e-1fce1aadb153"
      },
      "source": [
        "thislist=[100,50,65,82,23]\r\n",
        "thislist.sort()\r\n",
        "print(thislist)"
      ],
      "execution_count": 165,
      "outputs": [
        {
          "output_type": "stream",
          "text": [
            "[23, 50, 65, 82, 100]\n"
          ],
          "name": "stdout"
        }
      ]
    },
    {
      "cell_type": "code",
      "metadata": {
        "colab": {
          "base_uri": "https://localhost:8080/"
        },
        "id": "B58MfHHXLSQ_",
        "outputId": "ba1cc194-dee5-4064-81fa-4c9a8221e72d"
      },
      "source": [
        "thislist=[100,50,65,82,23]\r\n",
        "thislist.sort(reverse= True)\r\n",
        "print(thislist)"
      ],
      "execution_count": 166,
      "outputs": [
        {
          "output_type": "stream",
          "text": [
            "[100, 82, 65, 50, 23]\n"
          ],
          "name": "stdout"
        }
      ]
    },
    {
      "cell_type": "code",
      "metadata": {
        "colab": {
          "base_uri": "https://localhost:8080/"
        },
        "id": "kJdM7AhqL2uP",
        "outputId": "6d1aad9c-cf86-4a12-be88-c7d3f34b0f7b"
      },
      "source": [
        "thislist=[100,50,65,82,23]\r\n",
        "thislist=thislist[::-1]\r\n",
        "print(thislist)"
      ],
      "execution_count": 167,
      "outputs": [
        {
          "output_type": "stream",
          "text": [
            "[23, 82, 65, 50, 100]\n"
          ],
          "name": "stdout"
        }
      ]
    },
    {
      "cell_type": "code",
      "metadata": {
        "colab": {
          "base_uri": "https://localhost:8080/"
        },
        "id": "O05mtUDRMiVZ",
        "outputId": "e93c6e75-722d-46c0-bce6-2f146734a212"
      },
      "source": [
        "nameList=[\"Harsha\",\"Pratik\",\"Bob\"]\r\n",
        "print(nameList[1])"
      ],
      "execution_count": 170,
      "outputs": [
        {
          "output_type": "stream",
          "text": [
            "Pratik\n"
          ],
          "name": "stdout"
        }
      ]
    },
    {
      "cell_type": "code",
      "metadata": {
        "colab": {
          "base_uri": "https://localhost:8080/"
        },
        "id": "mu7o_9blNUj6",
        "outputId": "e15f1143-4548-4af4-9239-135c5b12f252"
      },
      "source": [
        "animal=[\"cat\",\"dog\",\"fish\",\"goat\"]\r\n",
        "age=[1,2,2,6]\r\n",
        "n=animal+age\r\n",
        "animal.extend(age)\r\n",
        "print(animal)\r\n",
        "print(n)"
      ],
      "execution_count": 174,
      "outputs": [
        {
          "output_type": "stream",
          "text": [
            "['cat', 'dog', 'fish', 'goat', 1, 2, 2, 6]\n",
            "['cat', 'dog', 'fish', 'goat', 1, 2, 2, 6]\n"
          ],
          "name": "stdout"
        }
      ]
    },
    {
      "cell_type": "code",
      "metadata": {
        "id": "iYvCCjkLPHde"
      },
      "source": [
        ""
      ],
      "execution_count": null,
      "outputs": []
    },
    {
      "cell_type": "code",
      "metadata": {
        "colab": {
          "base_uri": "https://localhost:8080/"
        },
        "id": "TZCjZosxOcKC",
        "outputId": "e3e20787-e1cb-4218-e507-f00cd847d647"
      },
      "source": [
        "age=[1,2,3,6]\r\n",
        "age.append(9)\r\n",
        "print(age)\r\n",
        "age.pop(2)\r\n",
        "print(age)\r\n",
        "c=age.count(3)\r\n",
        "print(c)"
      ],
      "execution_count": 176,
      "outputs": [
        {
          "output_type": "stream",
          "text": [
            "[1, 2, 3, 6, 9]\n",
            "[1, 2, 6, 9]\n",
            "0\n"
          ],
          "name": "stdout"
        }
      ]
    }
  ]
}